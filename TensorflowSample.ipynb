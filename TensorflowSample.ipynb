{
 "cells": [
  {
   "cell_type": "code",
   "execution_count": 2,
   "metadata": {},
   "outputs": [],
   "source": [
    "import tensorflow as tf\n",
    "import numpy as np\n"
   ]
  },
  {
   "cell_type": "code",
   "execution_count": 5,
   "metadata": {},
   "outputs": [
    {
     "name": "stdout",
     "output_type": "stream",
     "text": [
      "Input Shape: (1, 5, 18, 4096)\n",
      "Conv Shape: (1, 5, 18, 2)\n",
      "Up-sample Shape: (1, 10, 36, 2)\n"
     ]
    }
   ],
   "source": [
    "def conv_layer(x, k):\n",
    "    return tf.layers.conv2d(x, k, 1, 1)\n",
    "\n",
    "def upsample(x, num_classes):\n",
    "    return tf.layers.conv2d_transpose(x, num_classes, (2, 2), (2, 2), padding='valid')\n",
    "\n",
    "## ?x5x18x2 to ?x160x576x2\n",
    "num_classes = 2\n",
    "kernel = []\n",
    "x = tf.constant(np.random.randn(1, 5, 18, 4096), dtype=tf.float32)\n",
    "conv = conv_layer(x, num_classes)\n",
    "uplayer = upsample(conv, num_classes)\n",
    "\n",
    "with tf.Session() as sess:\n",
    "    sess.run(tf.global_variables_initializer())\n",
    "    conv_result = sess.run(conv)\n",
    "    up_result = sess.run(uplayer)\n",
    "    \n",
    "    print('Input Shape: {}'.format(x.get_shape()))\n",
    "    print('Conv Shape: {}'.format(conv_result.shape))\n",
    "    print('Up-sample Shape: {}'.format(up_result.shape))"
   ]
  },
  {
   "cell_type": "code",
   "execution_count": null,
   "metadata": {},
   "outputs": [],
   "source": []
  }
 ],
 "metadata": {
  "kernelspec": {
   "display_name": "Python 3",
   "language": "python",
   "name": "python3"
  },
  "language_info": {
   "codemirror_mode": {
    "name": "ipython",
    "version": 3
   },
   "file_extension": ".py",
   "mimetype": "text/x-python",
   "name": "python",
   "nbconvert_exporter": "python",
   "pygments_lexer": "ipython3",
   "version": "3.6.3"
  }
 },
 "nbformat": 4,
 "nbformat_minor": 2
}
